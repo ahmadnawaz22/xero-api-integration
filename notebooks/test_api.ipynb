{
 "cells": [
  {
   "cell_type": "code",
   "execution_count": null,
   "id": "c15a8d07",
   "metadata": {
    "vscode": {
     "languageId": "plaintext"
    }
   },
   "outputs": [],
   "source": [
    "# Cell 1: Test imports\n",
    "import sys\n",
    "sys.path.append('../src')\n",
    "\n",
    "from config import settings, validate_settings\n",
    "\n",
    "# Check settings\n",
    "print(\"API Key:\", settings.api_key[:10] + \"...\" if settings.api_key else \"NOT SET\")\n",
    "print(\"Environment:\", settings.environment)\n",
    "print(\"\\nValidation:\", validate_settings())\n",
    "\n",
    "# Cell 2: Test API locally\n",
    "import requests\n",
    "\n",
    "# Start your API first with: uvicorn src.main:app --reload\n",
    "base_url = \"http://localhost:8000\"\n",
    "\n",
    "# Test health endpoint\n",
    "response = requests.get(f\"{base_url}/health\")\n",
    "print(\"Health check:\", response.json())\n",
    "\n",
    "# Cell 3: Test authentication\n",
    "headers = {\"X-API-Key\": settings.api_key}\n",
    "response = requests.get(f\"{base_url}/api/test\", headers=headers)\n",
    "print(\"Auth test:\", response.json())"
   ]
  }
 ],
 "metadata": {
  "language_info": {
   "name": "python"
  }
 },
 "nbformat": 4,
 "nbformat_minor": 5
}
