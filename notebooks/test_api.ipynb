{
 "cells": [
  {
   "cell_type": "code",
   "execution_count": 1,
   "id": "c15a8d07",
   "metadata": {
    "vscode": {
     "languageId": "plaintext"
    }
   },
   "outputs": [
    {
     "name": "stdout",
     "output_type": "stream",
     "text": [
      "API Key: test-api-k...\n",
      "Environment: development\n",
      "\n",
      "Validation: True\n",
      "Health check: {'status': 'healthy', 'environment': 'development', 'version': 'v1', 'configuration': 'valid'}\n",
      "Auth test: {'message': 'Authentication successful!', 'authorized': True}\n"
     ]
    }
   ],
   "source": [
    "# Cell 1: Test imports\n",
    "import sys\n",
    "sys.path.append('../src')\n",
    "\n",
    "from config import settings, validate_settings\n",
    "\n",
    "# Check settings\n",
    "print(\"API Key:\", settings.api_key[:10] + \"...\" if settings.api_key else \"NOT SET\")\n",
    "print(\"Environment:\", settings.environment)\n",
    "print(\"\\nValidation:\", validate_settings())\n",
    "\n",
    "# Cell 2: Test API locally\n",
    "import requests\n",
    "\n",
    "# Start your API first with: uvicorn src.main:app --reload\n",
    "base_url = \"http://localhost:8000\"\n",
    "\n",
    "# Test health endpoint\n",
    "response = requests.get(f\"{base_url}/health\")\n",
    "print(\"Health check:\", response.json())\n",
    "\n",
    "# Cell 3: Test authentication\n",
    "headers = {\"X-API-Key\": settings.api_key}\n",
    "response = requests.get(f\"{base_url}/api/test\", headers=headers)\n",
    "print(\"Auth test:\", response.json())"
   ]
  },
  {
   "cell_type": "code",
   "execution_count": null,
   "id": "04be63ca-ccb3-4b97-a2ec-b53079225208",
   "metadata": {},
   "outputs": [],
   "source": []
  }
 ],
 "metadata": {
  "kernelspec": {
   "display_name": "Python 3 (ipykernel)",
   "language": "python",
   "name": "python3"
  },
  "language_info": {
   "codemirror_mode": {
    "name": "ipython",
    "version": 3
   },
   "file_extension": ".py",
   "mimetype": "text/x-python",
   "name": "python",
   "nbconvert_exporter": "python",
   "pygments_lexer": "ipython3",
   "version": "3.12.7"
  }
 },
 "nbformat": 4,
 "nbformat_minor": 5
}
